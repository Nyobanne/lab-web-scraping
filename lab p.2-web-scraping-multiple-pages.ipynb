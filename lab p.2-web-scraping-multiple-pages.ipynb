{
 "cells": [
  {
   "cell_type": "markdown",
   "id": "7a9f56e3-8a9f-4b62-883f-922f6bf93d82",
   "metadata": {},
   "source": [
    "## 3 challenges\n",
    "\n",
    "1. Retrieve an arbitrary Wikipedia page of \"Python\" and create a list of links on that page: url ='https://en.wikipedia.org/wiki/Python'\n",
    "2. Find the number of titles that have changed in the United States Code since its last release point: url = 'http://uscode.house.gov/download/download.shtml'\n",
    "3. Create a Python list with the top ten FBI's Most Wanted names: url = 'https://www.fbi.gov/wanted/topten'\n",
    "4. Display the 20 latest earthquakes info (date, time, latitude, longitude and region name) by the EMSC as a pandas dataframe: url = 'https://www.emsc-csem.org/Earthquake/'\n",
    "5. List all language names and number of related articles in the order they appear in wikipedia.org: url = 'https://www.wikipedia.org/'\n",
    "6. A list with the different kind of datasets available in data.gov.uk: url = 'https://data.gov.uk/'\n",
    "7. Display the top 10 languages by number of native speakers stored in a pandas dataframe: url = 'https://en.wikipedia.org/wiki/List_of_languages_by_number_of_native_speakers'"
   ]
  },
  {
   "cell_type": "code",
   "execution_count": 1,
   "id": "d7c7e115-8ac4-4f88-9d89-74daff81535a",
   "metadata": {},
   "outputs": [],
   "source": [
    "from bs4 import BeautifulSoup\n",
    "import requests\n",
    "import pandas as pd"
   ]
  },
  {
   "cell_type": "markdown",
   "id": "b51f4bee-c527-436b-86d3-b58cfae00e64",
   "metadata": {},
   "source": [
    "### FBI\n",
    "Create a Python list with the top ten FBI's Most Wanted names: url = 'https://www.fbi.gov/wanted/topten'"
   ]
  },
  {
   "cell_type": "code",
   "execution_count": null,
   "id": "d27b6e9c-87b9-4643-a987-ccb754b98f24",
   "metadata": {},
   "outputs": [],
   "source": [
    "url=\n",
    "names=soup3.find_all(\"h3\", {})"
   ]
  },
  {
   "cell_type": "markdown",
   "id": "315983c8-ee85-4985-8c14-fb8aa3350c63",
   "metadata": {},
   "source": [
    "### Earthquakes\n",
    "Display the 20 latest earthquakes info (date, time, latitude, longitude and region name) by the EMSC as a pandas dataframe: url = 'https://www.emsc-csem.org/Earthquake/'"
   ]
  },
  {
   "cell_type": "code",
   "execution_count": null,
   "id": "3c57da43-2d88-43b8-9e89-0a13b1c7e028",
   "metadata": {},
   "outputs": [],
   "source": []
  },
  {
   "cell_type": "markdown",
   "id": "fae2194f-ddb9-417c-ac01-903af2a06835",
   "metadata": {},
   "source": [
    "### US Code\n",
    "Find the number of titles that have changed in the United States Code since its last release point: url = 'http://uscode.house.gov/download/download.shtml'"
   ]
  },
  {
   "cell_type": "code",
   "execution_count": null,
   "id": "c200c332-8d89-4ef1-9071-0368993035a9",
   "metadata": {},
   "outputs": [],
   "source": [
    "url4='https://www.emsc-csem.org/Earthquake/'\n",
    "website4=requests.get(url4)\n",
    "website4.status_code #200 code is ok\n",
    "soup4=BeautifulSoup(website4.content, \"html.parser\")\n"
   ]
  },
  {
   "cell_type": "code",
   "execution_count": null,
   "id": "86c82aca-6395-478d-a810-9c5f235e080e",
   "metadata": {},
   "outputs": [],
   "source": [
    "date=soup4.find_all('td',{\"class\":\"tbdat\"}) \n",
    "#dynamic page : content is loaded only when user gets to a page (like facebook login)\n",
    "#We would need Selenium to fake a user."
   ]
  }
 ],
 "metadata": {
  "kernelspec": {
   "display_name": "Python 3 (ipykernel)",
   "language": "python",
   "name": "python3"
  },
  "language_info": {
   "codemirror_mode": {
    "name": "ipython",
    "version": 3
   },
   "file_extension": ".py",
   "mimetype": "text/x-python",
   "name": "python",
   "nbconvert_exporter": "python",
   "pygments_lexer": "ipython3",
   "version": "3.11.5"
  }
 },
 "nbformat": 4,
 "nbformat_minor": 5
}
