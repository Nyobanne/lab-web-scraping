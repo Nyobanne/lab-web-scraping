{
 "cells": [
  {
   "cell_type": "markdown",
   "metadata": {
    "id": "ysQGKPUpxt8Q"
   },
   "source": [
    "# 6.01 morning lab music\n",
    "## GNOD"
   ]
  },
  {
   "cell_type": "code",
   "execution_count": 9,
   "metadata": {
    "id": "SyHqFC5dxt8W"
   },
   "outputs": [],
   "source": [
    "#!pip install bs4\n",
    "from bs4 import BeautifulSoup\n",
    "import requests\n",
    "import pandas as pd"
   ]
  },
  {
   "cell_type": "markdown",
   "metadata": {},
   "source": [
    "As you know, we are trying to come up with ways to enhance our music recommendations. One of the new features we'd like to research is to recommend songs (not only bands). We're also aware of the limitations of our collaborative filtering algorithms, and would like to give users two new possibilities when searching for recommendations:\n",
    " \n",
    "- Songs that are actually similar to the ones they picked from an acoustic point of view.\n",
    "- Songs that are popular around the world right now, independently from their tastes.\n",
    " \n",
    "Coming up with the perfect song recommender will take us months - no need to stress out too much. In this first week, we want you to explore new data sources for songs. The internet is full of information and our first step is to acquire it do an initial exploration. Feel free to use APIs or directly scrape the web to collect as much information as possible from popular songs. Eventually, we'll need to collect data from millions of songs, but we can start with a few hundreds or thousands from each source and see if the collected features are useful. \n",
    " \n",
    "Once the data is collected, we want you to create clusters of songs that are similar to each other. The idea is that if a user inputs a song from one group, we'll prioritize giving them recommendations of songs from that same group.\n",
    " \n",
    "On Friday, you will present your work to me and Marek, the CEO and founder. Full disclosure: I need you to be very convincing about this whole song-recommender, as this has been my personal push and the main reason we hired you for!\n",
    " \n",
    "Be open minded about this process: we are agile, and that means that we define our products and features on-the-go, while exploring the tools and the data that's available to us. We'd love you to provide your own vision of the product and the next steps to be taken.\n",
    " "
   ]
  },
  {
   "cell_type": "code",
   "execution_count": 10,
   "metadata": {},
   "outputs": [],
   "source": [
    "#for website www.gnoosic.com\n",
    "url = \"http://www.popvortex.com/music/charts/top-100-songs.php\""
   ]
  },
  {
   "cell_type": "code",
   "execution_count": 11,
   "metadata": {
    "id": "aEQfnnX_xt8X"
   },
   "outputs": [],
   "source": [
    "website = requests.get(url)\n",
    "soup = BeautifulSoup(website.content, \"html.parser\")"
   ]
  },
  {
   "cell_type": "code",
   "execution_count": 17,
   "metadata": {
    "colab": {
     "base_uri": "https://localhost:8080/"
    },
    "executionInfo": {
     "elapsed": 571,
     "status": "ok",
     "timestamp": 1619377595561,
     "user": {
      "displayName": "David Henriques",
      "photoUrl": "",
      "userId": "14332050621134291491"
     },
     "user_tz": -60
    },
    "id": "hAWJ9H1Rxt8Z",
    "outputId": "a8e6e003-2aba-456b-f758-6210276079b1"
   },
   "outputs": [
    {
     "ename": "AttributeError",
     "evalue": "ResultSet object has no attribute 'prettify'. You're probably treating a list of elements like a single element. Did you call find_all() when you meant to call find()?",
     "output_type": "error",
     "traceback": [
      "\u001b[0;31m---------------------------------------------------------------------------\u001b[0m",
      "\u001b[0;31mAttributeError\u001b[0m                            Traceback (most recent call last)",
      "Cell \u001b[0;32mIn[17], line 2\u001b[0m\n\u001b[1;32m      1\u001b[0m \u001b[38;5;66;03m# html well indented. not always works great...\u001b[39;00m\n\u001b[0;32m----> 2\u001b[0m \u001b[38;5;28mprint\u001b[39m(selection\u001b[38;5;241m.\u001b[39mprettify())\n",
      "File \u001b[0;32m~/anaconda3/lib/python3.11/site-packages/bs4/element.py:2428\u001b[0m, in \u001b[0;36mResultSet.__getattr__\u001b[0;34m(self, key)\u001b[0m\n\u001b[1;32m   2426\u001b[0m \u001b[38;5;28;01mdef\u001b[39;00m \u001b[38;5;21m__getattr__\u001b[39m(\u001b[38;5;28mself\u001b[39m, key):\n\u001b[1;32m   2427\u001b[0m \u001b[38;5;250m    \u001b[39m\u001b[38;5;124;03m\"\"\"Raise a helpful exception to explain a common code fix.\"\"\"\u001b[39;00m\n\u001b[0;32m-> 2428\u001b[0m     \u001b[38;5;28;01mraise\u001b[39;00m \u001b[38;5;167;01mAttributeError\u001b[39;00m(\n\u001b[1;32m   2429\u001b[0m         \u001b[38;5;124m\"\u001b[39m\u001b[38;5;124mResultSet object has no attribute \u001b[39m\u001b[38;5;124m'\u001b[39m\u001b[38;5;132;01m%s\u001b[39;00m\u001b[38;5;124m'\u001b[39m\u001b[38;5;124m. You\u001b[39m\u001b[38;5;124m'\u001b[39m\u001b[38;5;124mre probably treating a list of elements like a single element. Did you call find_all() when you meant to call find()?\u001b[39m\u001b[38;5;124m\"\u001b[39m \u001b[38;5;241m%\u001b[39m key\n\u001b[1;32m   2430\u001b[0m     )\n",
      "\u001b[0;31mAttributeError\u001b[0m: ResultSet object has no attribute 'prettify'. You're probably treating a list of elements like a single element. Did you call find_all() when you meant to call find()?"
     ]
    }
   ],
   "source": [
    "# html well indented. not always works great...\n",
    "print(selection)"
   ]
  },
  {
   "cell_type": "code",
   "execution_count": 23,
   "metadata": {},
   "outputs": [],
   "source": [
    "#artist:\n",
    "#CSS selector: #chart-position-1 .chart-content .artist\n",
    "#HTML .feed-item.music-chart.flex-row > .chart-content > .title-artist > .artist\n"
   ]
  },
  {
   "cell_type": "code",
   "execution_count": 21,
   "metadata": {
    "colab": {
     "base_uri": "https://localhost:8080/",
     "height": 69
    },
    "executionInfo": {
     "elapsed": 784,
     "status": "ok",
     "timestamp": 1619377593530,
     "user": {
      "displayName": "David Henriques",
      "photoUrl": "",
      "userId": "14332050621134291491"
     },
     "user_tz": -60
    },
    "id": "sGs4HXsFxt8X",
    "outputId": "51082b74-126d-4f89-f762-87126a0e073d"
   },
   "outputs": [
    {
     "name": "stdout",
     "output_type": "stream",
     "text": [
      "<div class=\"feed-item music-chart flex-row\" id=\"chart-position-1\">\n",
      " <div class=\"cover-art col-xs-12 col-sm-4\">\n",
      "  <p class=\"chart-position\">\n",
      "   1\n",
      "  </p>\n",
      "  <img alt=\"TEXAS HOLD 'EM - Beyoncé Cover Art\" class=\"cover-image\" data-pin-description=\"TEXAS HOLD 'EM - Beyoncé\" data-pin-media=\"https://is1-ssl.mzstatic.com/image/thumb/Music116/v4/1b/e0/73/1be0738e-c0c8-306b-5fed-9403b8383e06/196871850414.jpg/1200x1200bb.png\" data-pin-url=\"https://www.popvortex.com/music/charts/top-100-songs.php\" height=\"170\" loading=\"lazy\" src=\"https://is1-ssl.mzstatic.com/image/thumb/Music116/v4/1b/e0/73/1be0738e-c0c8-306b-5fed-9403b8383e06/196871850414.jpg/170x170bb.png\" width=\"170\"/>\n",
      "  <audio controls=\"\" controlslist=\"nodownload\" preload=\"none\">\n",
      "   <source src=\"https://audio-ssl.itunes.apple.com/itunes-assets/AudioPreview116/v4/d3/a4/2d/d3a42d18-d36d-b065-e761-2ed148b812c1/mzaf_18371985990768198615.plus.aac.p.m4a\"/>\n",
      "  </audio>\n",
      " </div>\n",
      " <div class=\"chart-content col-xs-12 col-sm-8\">\n",
      "  <p class=\"title-artist\">\n",
      "   <cite class=\"title\">\n",
      "    TEXAS HOLD 'EM\n",
      "   </cite>\n",
      "   <em class=\"artist\">\n",
      "    Beyoncé\n",
      "   </em>\n",
      "  </p>\n",
      "  <ul>\n",
      "   <li>\n",
      "    <strong>\n",
      "     Genre\n",
      "    </strong>\n",
      "    :\n",
      "    <a href=\"/music/charts/top-country-songs.php\">\n",
      "     Country\n",
      "    </a>\n",
      "   </li>\n",
      "   <li>\n",
      "    <strong>\n",
      "     Release Date\n",
      "    </strong>\n",
      "    : February 11, 2024\n",
      "   </li>\n",
      "  </ul>\n",
      "  <a class=\"buy-button button\" href=\"https://music.apple.com/us/album/texas-hold-em/1730408497?i=1730408498&amp;uo=2&amp;partnerId=11&amp;at=10l4UI&amp;itsct=music_box_link&amp;itscg=30200&amp;ls=1&amp;ct=music-songs&amp;app=music\" rel=\"nofollow noopener\">\n",
      "   Apple Music / iTunes\n",
      "  </a>\n",
      "  <a aria-label=\"Buy TEXAS HOLD 'EM - Beyoncé on Amazon\" class=\"amazon-buy button\" href=\"https://www.amazon.com/gp/search?ie=UTF8&amp;keywords=TEXAS+HOLD+%27EM+Beyonc%C3%A9&amp;tag=popv0f-20&amp;search-alias=digital-music\" rel=\"nofollow noopener\" target=\"_blank\">\n",
      "   Buy on Amazon\n",
      "  </a>\n",
      "  <div class=\"social-share\">\n",
      "   <a class=\"facebook-share-button\" href=\"javascript: void(0)\" onclick=\"window.open('https://www.facebook.com/dialog/feed?app_id=178831188827052&amp;display=popup&amp;description=TEXAS+HOLD+%27EM+by+Beyonc%C3%A9+is+currently+at+number+1+on+the+iTunes+top+100+songs+chart.&amp;link=https%3A%2F%2Fwww.popvortex.com%2Fmusic%2Fcharts%2Ftop-100-songs.php&amp;redirect_uri=http%3A%2F%2Fwww.popvortex.com%2Fpopup-close.html&amp;picture=https%3A%2F%2Fis1-ssl.mzstatic.com%2Fimage%2Fthumb%2FMusic116%2Fv4%2F1b%2Fe0%2F73%2F1be0738e-c0c8-306b-5fed-9403b8383e06%2F196871850414.jpg%2F170x170bb.png','sharer','toolbar=0,status=0,width=548,height=325');\">\n",
      "    <img alt=\"Share on Facebook\" height=\"20\" loading=\"lazy\" src=\"../../images/facebook-share.png\" width=\"55\"/>\n",
      "   </a>\n",
      "   <a class=\"pinterest-share-button\" data-pin-config=\"none\" data-pin-do=\"buttonPin\" href=\"//pinterest.com/pin/create/button/?url=https%3A%2F%2Fwww.popvortex.com%2Fmusic%2Fcharts%2Ftop-100-songs.php&amp;media=https%3A%2F%2Fis1-ssl.mzstatic.com%2Fimage%2Fthumb%2FMusic116%2Fv4%2F1b%2Fe0%2F73%2F1be0738e-c0c8-306b-5fed-9403b8383e06%2F196871850414.jpg%2F1200x1200bb.png&amp;description=TEXAS HOLD 'EM - Beyoncé\">\n",
      "    <img alt=\"Pinterest Button\" height=\"20\" loading=\"lazy\" src=\"//assets.pinterest.com/images/pidgets/pin_it_button.png\" width=\"40\"/>\n",
      "   </a>\n",
      "   <a class=\"tweet-button\" href=\"https://twitter.com/intent/tweet?text=TEXAS+HOLD+%27EM+by+Beyonc%C3%A9+is+%231+on+iTunes+top+100+songs+chart.&amp;hashtags=iTunes&amp;url=https://www.popvortex.com/music/charts/top-100-songs.php\">\n",
      "    <span>\n",
      "    </span>\n",
      "    Tweet\n",
      "   </a>\n",
      "  </div>\n",
      " </div>\n",
      "</div>\n",
      "\n"
     ]
    }
   ],
   "source": [
    "#\n",
    "#you want\n",
    "# <p class=\"chart-position\"> 1  </p>\n",
    "# <div class=\"chart-content col-xs-12 col-sm-8\">\n",
    "#<p class=\"title-artist\">\n",
    "#<cite class=\"title\"> TEXAS HOLD 'EM </cite>\n",
    "#<em class=\"artist\"> Beyoncé </em> \n",
    "    #</p>\n",
    "\n",
    "selection=soup.select(\" #chart-position-1\")\n",
    "for element in selection:\n",
    "    print(element.prettify())"
   ]
  },
  {
   "cell_type": "code",
   "execution_count": 25,
   "metadata": {},
   "outputs": [
    {
     "name": "stdout",
     "output_type": "stream",
     "text": [
      "<em class=\"artist\">\n",
      " Beyoncé\n",
      "</em>\n",
      "\n"
     ]
    }
   ],
   "source": [
    "selection2=soup.select(\" #chart-position-1 .chart-content .artist\")\n",
    "for element in selection2:\n",
    "    print(element.prettify())"
   ]
  },
  {
   "cell_type": "code",
   "execution_count": 30,
   "metadata": {},
   "outputs": [
    {
     "name": "stdout",
     "output_type": "stream",
     "text": [
      "Titles: [\"TEXAS HOLD 'EM\", 'Lose Control', 'Beautiful Things', 'Flowers', 'Turn the Lights Back On', \"Don't Let the Old Man In\", 'Lovin On Me', \"TEXAS HOLD 'EM\", 'Fast Car', 'Sorrys & Ferraris', 'Training Season', '16 CARRIAGES', 'Fast Car', 'Selfish', 'I Remember Everything (feat. Kacey Musgraves)', 'yes, and?', 'Houdini', 'Yeah! (feat. Lil Jon & Ludacris)', 'Save Me', 'Made For Me', 'Lil Boo Thang', 'Cruel Summer', \"Country's Cool Again\", 'Live Like You Were Dying', 'Where the Wild Things Are', \"Let's Go\", \"In Case You Didn't Know\", \"It Ain't Over 'Til It's Over\", 'Spicy Margarita', 'Need a Favor', \"Should've Been a Cowboy\", 'Three Little Birds', 'Water', 'You’re Losing Me (From The Vault)', 'White Horse', 'One More Love Left', 'What Was I Made For? (From The Motion Picture \"Barbie\")', 'Courtesy of the Red, White and Blue (The Angry American)', 'Fly Away', 'One Love / People Get Ready', 'Lovin On Me', 'Thinkin’ Bout Me', 'Anti-Hero', 'Good Day', 'Save Me (with Lainey Wilson) [with Lainey Wilson]', 'Devil You Know', 'Murder On the Dancefloor (Radio Edit)', 'A Country Boy Can Survive', 'Spin You Around (1/24)', 'Love Story (Taylor’s Version)', 'As Good As I Once Was', 'You Belong With Me (Taylor’s Version)', 'Purple Irises', 'Hard to Love', 'Wildflowers and Wild Horses (Single Version)', 'Watermelon Moonshine', 'Powerful Women', 'Lover', 'Stick Season', 'CARNIVAL', 'Dance The Night', 'Karma', 'Pretty Little Poison', 'Last Night', 'Are You Gonna Go My Way', 'Lead Me Home', 'We Are the World', 'How Do You Like Me Now?!', 'TRUCK BED', '23', 'Good On You', \"Can't Get Enough\", 'Tennessee Whiskey', 'Bulletproof', 'Strangers', 'CONTIGO', 'You Need To Calm Down', 'There Was Jesus', 'I Love This Bar', 'Used To Be Young', 'Tell It To My Heart', 'Life With You', 'Rule The World (Everybody)', 'Standing Next to You (USHER Remix)', '...Ready For It?', 'A Symptom Of Being Human', 'greedy', 'Heart Like a Truck', 'American Woman', \"Is It Over Now? (Taylor's Version) [From The Vault]\", 'Everybody (feat. Lil Uzi Vert)', 'Unwritten', 'HISS', 'Crush Crush', 'redrum', 'To Be A Man (feat. Darius Rucker)', 'The Door', 'It Takes 3', 'bury a friend', 'Unstoppable']\n"
     ]
    }
   ],
   "source": [
    "titles = [t.cite.get_text() for t in soup.select(\".title-artist\")]\n",
    "#print(\"Titles:\", titles)"
   ]
  },
  {
   "cell_type": "code",
   "execution_count": 32,
   "metadata": {
    "id": "oh9yO80_IDRo",
    "outputId": "a2672f2f-581f-448c-dcf6-58f5e4844365"
   },
   "outputs": [],
   "source": [
    "#class=\"chart-position\"\n",
    "wrapper1=soup.select(\"body > div.container > div:nth-child(4) > div.col-xs-12.col-md-8 > div.chart-wrapper\")\n",
    "wrapper=soup.select(\".chart-wrapper\""
   ]
  },
  {
   "cell_type": "code",
   "execution_count": 34,
   "metadata": {
    "id": "zdor6CI2lZlK"
   },
   "outputs": [
    {
     "ename": "AttributeError",
     "evalue": "'Doctype' object has no attribute 'select_one'",
     "output_type": "error",
     "traceback": [
      "\u001b[0;31m---------------------------------------------------------------------------\u001b[0m",
      "\u001b[0;31mAttributeError\u001b[0m                            Traceback (most recent call last)",
      "Cell \u001b[0;32mIn[34], line 6\u001b[0m\n\u001b[1;32m      3\u001b[0m artist \u001b[38;5;241m=\u001b[39m []\n\u001b[1;32m      4\u001b[0m \u001b[38;5;28;01mfor\u001b[39;00m w \u001b[38;5;129;01min\u001b[39;00m soup:\n\u001b[1;32m      5\u001b[0m     \u001b[38;5;66;03m# Find chart-position, title, and artist elements within the current chart wrapper\u001b[39;00m\n\u001b[0;32m----> 6\u001b[0m     chart_position \u001b[38;5;241m=\u001b[39m w\u001b[38;5;241m.\u001b[39mselect_one(\u001b[38;5;124m\"\u001b[39m\u001b[38;5;124m.chart-position\u001b[39m\u001b[38;5;124m\"\u001b[39m)\u001b[38;5;241m.\u001b[39mtext\u001b[38;5;241m.\u001b[39mstrip()\n\u001b[1;32m      7\u001b[0m     chart_title \u001b[38;5;241m=\u001b[39m w\u001b[38;5;241m.\u001b[39mselect_one(\u001b[38;5;124m\"\u001b[39m\u001b[38;5;124m.title\u001b[39m\u001b[38;5;124m\"\u001b[39m)\u001b[38;5;241m.\u001b[39mtext\u001b[38;5;241m.\u001b[39mstrip()\n\u001b[1;32m      8\u001b[0m     chart_artist \u001b[38;5;241m=\u001b[39m w\u001b[38;5;241m.\u001b[39mselect_one(\u001b[38;5;124m\"\u001b[39m\u001b[38;5;124m.artist\u001b[39m\u001b[38;5;124m\"\u001b[39m)\u001b[38;5;241m.\u001b[39mtext\u001b[38;5;241m.\u001b[39mstrip()\n",
      "File \u001b[0;32m~/anaconda3/lib/python3.11/site-packages/bs4/element.py:984\u001b[0m, in \u001b[0;36mNavigableString.__getattr__\u001b[0;34m(self, attr)\u001b[0m\n\u001b[1;32m    982\u001b[0m     \u001b[38;5;28;01mreturn\u001b[39;00m \u001b[38;5;28mself\u001b[39m\n\u001b[1;32m    983\u001b[0m \u001b[38;5;28;01melse\u001b[39;00m:\n\u001b[0;32m--> 984\u001b[0m     \u001b[38;5;28;01mraise\u001b[39;00m \u001b[38;5;167;01mAttributeError\u001b[39;00m(\n\u001b[1;32m    985\u001b[0m         \u001b[38;5;124m\"\u001b[39m\u001b[38;5;124m'\u001b[39m\u001b[38;5;132;01m%s\u001b[39;00m\u001b[38;5;124m'\u001b[39m\u001b[38;5;124m object has no attribute \u001b[39m\u001b[38;5;124m'\u001b[39m\u001b[38;5;132;01m%s\u001b[39;00m\u001b[38;5;124m'\u001b[39m\u001b[38;5;124m\"\u001b[39m \u001b[38;5;241m%\u001b[39m (\n\u001b[1;32m    986\u001b[0m             \u001b[38;5;28mself\u001b[39m\u001b[38;5;241m.\u001b[39m\u001b[38;5;18m__class__\u001b[39m\u001b[38;5;241m.\u001b[39m\u001b[38;5;18m__name__\u001b[39m, attr))\n",
      "\u001b[0;31mAttributeError\u001b[0m: 'Doctype' object has no attribute 'select_one'"
     ]
    }
   ],
   "source": [
    "ranking=[]\n",
    "title = []\n",
    "artist = []\n",
    "for w in wrapper:\n",
    "    # Find chart-position, title, and artist elements within the current chart wrapper\n",
    "    chart_position = w.select_one(\".chart-position\").text.strip()\n",
    "    chart_title = w.select_one(\".title\").text.strip()\n",
    "    chart_artist = w.select_one(\".artist\").text.strip()\n",
    "    \n",
    "    # Append the data to the respective lists\n",
    "    ranking.append(chart_position)\n",
    "    title.append(chart_title)\n",
    "    artist.append(chart_artist)\n",
    "\n",
    "# Print or manipulate the lists as needed\n",
    "print(\"Ranking:\", ranking)\n",
    "print(\"Titles:\", title)\n",
    "print(\"Artists:\", artist)"
   ]
  },
  {
   "cell_type": "code",
   "execution_count": null,
   "metadata": {},
   "outputs": [],
   "source": [
    "# each list becomes a column\n",
    "repertoire = pd.DataFrame({\"ranking\":ranking,\n",
    "                            \"title\":tite,\n",
    "                           \"artist\":artist\n",
    "                          })"
   ]
  },
  {
   "cell_type": "markdown",
   "metadata": {},
   "source": [
    "* Check the case_study_gnod.md file:\n",
    "* the goal of the company (Gnod),\n",
    "* their current product (Gnoosic),\n",
    "* their strategy, and\n",
    "* how your project fits into this context.\n",
    "* Re-read the business case and the e-mail from the CTO, take a look at the flowchart and create an initial Trello board with the tasks you think you'll have to accomplish."
   ]
  },
  {
   "cell_type": "markdown",
   "metadata": {},
   "source": [
    "* In the previous lab, you had to scrape data about \"hot songs\". It's critical to be on track with that part, as it was part of the request from the CTO.\n",
    "* If you couldn't finish the first lab, use this time to go back there.\n",
    "### Expand the project\n",
    "* If you're done, you can try to expand the project on your own. Here are a few suggestions:\n",
    "* Find other lists of hot songs on the internet and scrape them too: having a bigger pool of songs will be awesome!\n",
    "* Apply the same logic to other \"groups\" of songs: the best songs from a decade or from a country / culture / language / genre.\n",
    "Wikipedia maintains a large collection of lists of songs: https://en.wikipedia.org/wiki/Lists_of_songs"
   ]
  },
  {
   "cell_type": "code",
   "execution_count": null,
   "metadata": {},
   "outputs": [],
   "source": []
  }
 ],
 "metadata": {
  "colab": {
   "provenance": []
  },
  "kernelspec": {
   "display_name": "Python 3 (ipykernel)",
   "language": "python",
   "name": "python3"
  },
  "language_info": {
   "codemirror_mode": {
    "name": "ipython",
    "version": 3
   },
   "file_extension": ".py",
   "mimetype": "text/x-python",
   "name": "python",
   "nbconvert_exporter": "python",
   "pygments_lexer": "ipython3",
   "version": "3.11.5"
  }
 },
 "nbformat": 4,
 "nbformat_minor": 4
}
